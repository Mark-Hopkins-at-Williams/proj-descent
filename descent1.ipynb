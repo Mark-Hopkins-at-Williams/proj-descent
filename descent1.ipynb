{
 "cells": [
  {
   "cell_type": "markdown",
   "metadata": {},
   "source": [
    "# Lab 1: Descent (Part 1)"
   ]
  },
  {
   "cell_type": "markdown",
   "metadata": {},
   "source": [
    "In the 19th Century, a Russian adventurer named Sergei Chekhov went to Africa to seek his fortune. He returned with the world's largest yellow diamond. Rather than sell it, he traveled the world, exhibiting the gem at museums and fairs. Dubbed \"Chekhov's Sun\" by the media, the jewel caused a sensation."
   ]
  },
  {
   "cell_type": "markdown",
   "metadata": {},
   "source": [
    "![Chekhov's Sun](./img/chekhov.png)"
   ]
  },
  {
   "cell_type": "markdown",
   "metadata": {},
   "source": [
    "Chekhov's global tour continued for several months, until he abruptly retreated from public life. He moved to a remote area of Siberia, where he spent the remainder of his days in hermitage.\n",
    "\n",
    "Recently, some of Chekhov's journals were discovered beneath a floorboard in his Siberian cottage. The journals indicate that, before retreating to Siberia, Chekhov returned the diamond to the place he had discovered it: \"the lowest point of the lowest point of the Serengeti.\" The journals do not explain why, however his journals contain a statement about \"wanting to close Pandora's box, to uneat the fruit of the knowledge of good and evil.\""
   ]
  },
  {
   "cell_type": "markdown",
   "metadata": {},
   "source": [
    "You've decided to attempt to recover Chekhov's Sun. What could go wrong? Fortunately, the elevation of the Serengeti (in meters) at x degrees longitude and y degrees latitude is conveniently described by the following function:\n",
    "\n",
    "$f(x,y) = x^2 + y^2 - 70.7078x + 5.9792y  + 2658$\n",
    "\n",
    "If x is negative, then it indicates \"degrees west longitude\", and if y is negative then it indicates \"degrees south lattitude.\""
   ]
  },
  {
   "cell_type": "markdown",
   "metadata": {},
   "source": [
    "Find the lowest point of the Serengeti, using standard calculus techniques, in terms of lattitude and longitude. Then, enter the coordinates into Google Maps to find out where this is. For instance, to ask Google Maps where to find 48.8584 degrees north latitude and 2.2945 degrees east latitude, simply type  \n",
    "\n",
    "```48.8584N, 2.2945E```\n",
    "\n",
    "into the Google Maps search window. This gives you the Eiffel Tower:\n",
    "\n",
    "![Google Maps Eiffel Tower](./img/eiffel2.png)\n"
   ]
  },
  {
   "cell_type": "markdown",
   "metadata": {},
   "source": [
    "Where is Chekhov's Sun?"
   ]
  },
  {
   "cell_type": "code",
   "execution_count": null,
   "metadata": {},
   "outputs": [],
   "source": [
    "def submit(response):\n",
    "    import rpyc\n",
    "    c = rpyc.connect(\"137.165.10.56\", 18861)\n",
    "    print(c.root.submit_response('lab1.0', response))\n",
    "\n",
    "submit('YOUR ANSWER HERE') # fill this in"
   ]
  },
  {
   "cell_type": "markdown",
   "metadata": {},
   "source": [
    "Once you have determined the correct answer, you should move on to Part 2 of this assignment (```descent2.ipynb```)."
   ]
  }
 ],
 "metadata": {
  "kernelspec": {
   "display_name": "Python 3",
   "language": "python",
   "name": "python3"
  },
  "language_info": {
   "codemirror_mode": {
    "name": "ipython",
    "version": 3
   },
   "file_extension": ".py",
   "mimetype": "text/x-python",
   "name": "python",
   "nbconvert_exporter": "python",
   "pygments_lexer": "ipython3",
   "version": "3.7.1"
  }
 },
 "nbformat": 4,
 "nbformat_minor": 2
}
