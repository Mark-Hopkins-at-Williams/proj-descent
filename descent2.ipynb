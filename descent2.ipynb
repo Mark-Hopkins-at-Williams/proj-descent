{
 "cells": [
  {
   "cell_type": "markdown",
   "metadata": {},
   "source": [
    "# Lab 1: Descent (Part 2)"
   ]
  },
  {
   "cell_type": "markdown",
   "metadata": {},
   "source": [
    "Digging at the lowest point of Olduvai Gorge, you discover a hatch:"
   ]
  },
  {
   "cell_type": "markdown",
   "metadata": {},
   "source": [
    "![Hatch](./img/trapdoor.png)"
   ]
  },
  {
   "cell_type": "markdown",
   "metadata": {},
   "source": [
    "You descend a ladder until you reach a sloping surface. Armed only with a GPS and torch (both the light source and the tensor manipulation package), you can't see much beyond your own two feet. However, you can determine your current position and the current gradient, as well as whether you see an exit from your current position."
   ]
  },
  {
   "cell_type": "code",
   "execution_count": null,
   "metadata": {},
   "outputs": [],
   "source": [
    "from levels import Environment, Level1\n",
    "level1 = Level1()\n",
    "position = level1.current_position()\n",
    "print(f\"Current position:     {level1.current_position()}\")\n",
    "print(f\"Current gradient:     {level1.gradient(position)}\")\n",
    "print(f\"Is the exit visible?  {level1.can_see_exit(position)}\")"
   ]
  },
  {
   "cell_type": "markdown",
   "metadata": {},
   "source": [
    "You can also step to a new position and check that out."
   ]
  },
  {
   "cell_type": "code",
   "execution_count": null,
   "metadata": {},
   "outputs": [],
   "source": [
    "from torch import tensor\n",
    "level1.step_to(tensor([3.0, 4.0]))\n",
    "new_position = level1.current_position()\n",
    "print(f\"Current position:     {new_position}\")\n",
    "print(f\"Current gradient:     {level1.gradient(new_position)}\")\n",
    "print(f\"Is the exit visible?  {level1.can_see_exit(new_position)}\")"
   ]
  },
  {
   "cell_type": "markdown",
   "metadata": {},
   "source": [
    "You're a little frightened of the dark, so you decide that you won't take more than 100 steps before retreating back to the entry hatch and trying a new strategy. This is tracked by the environment, which returns the status ```EXCEEDED_STEP_LIMIT``` if you've taken too many steps."
   ]
  },
  {
   "cell_type": "code",
   "execution_count": null,
   "metadata": {},
   "outputs": [],
   "source": [
    "level1 = Level1()\n",
    "position = level1.current_position()\n",
    "for i in range(101):\n",
    "    position = position + tensor([0.01, 0.01])\n",
    "    level1.step_to(position)    \n",
    "    if level1.status() == Environment.ACTIVELY_SEARCHING:\n",
    "        status = \"ACTIVELY SEARCHING\"\n",
    "    elif level1.status() == Environment.EXCEEDED_STEP_LIMIT:\n",
    "        status = \"EXCEEDED STEP LIMIT\"\n",
    "    elif level1.status() == Environment.FOUND_EXIT:\n",
    "        status = \"FOUND EXIT\"\n",
    "    print(f\"{status} at {level1.current_position()}\")"
   ]
  },
  {
   "cell_type": "markdown",
   "metadata": {},
   "source": [
    "Here is the visualization of a journey that begins at point (0,0), then proceeds to points (3,1), (6,-1), and (5,-2), without finding the exit. The starting point is in orange, the intermediate points are in gray, and the final point is either red (if no exit has been found) or green (if an exit has been found)."
   ]
  },
  {
   "cell_type": "code",
   "execution_count": null,
   "metadata": {},
   "outputs": [],
   "source": [
    "%matplotlib inline\n",
    "from torch import tensor\n",
    "from levels import visualize_journey\n",
    "positions = [tensor([0.0, 0.0]), tensor([3.0, 1.0]), \n",
    "             tensor([6.0, -1.0]), tensor([5.0, -2.0])]\n",
    "visualize_journey(positions, False)"
   ]
  },
  {
   "cell_type": "markdown",
   "metadata": {},
   "source": [
    "Luckily, you've studied gradient descent algorithms, so you know what to do."
   ]
  },
  {
   "cell_type": "markdown",
   "metadata": {},
   "source": [
    "----\n",
    "### Question 1\n",
    "----"
   ]
  },
  {
   "cell_type": "markdown",
   "metadata": {},
   "source": [
    "Implement a general-purpose gradient descent algorithm, so that you can start exploring the environment. Specifically, complete the function ```grad_descent``` in ```algorithms.py```, according to the specifications in its comments.\n",
    "\n",
    "There's a unit test in test.py, so that you can check your algorithm is working properly. Run it from the command line as follows:\n",
    "\n",
    "    python -m unittest test.Q1    \n",
    "    \n",
    "Once it's working, you should be ready to find the lowest point in the environment."
   ]
  },
  {
   "cell_type": "code",
   "execution_count": null,
   "metadata": {},
   "outputs": [],
   "source": [
    "from algorithms import vanilla_grad_descent\n",
    "from levels import Level1, visualize_journey\n",
    "env = Level1()\n",
    "points = vanilla_grad_descent(0.95, env)\n",
    "if len(points[1:]) == 51:\n",
    "    visualize_journey(points, env.can_see_exit(points[-1]))\n",
    "else:\n",
    "    print(\"Looks like there's still a bug in your grad_descent code.\")"
   ]
  },
  {
   "cell_type": "markdown",
   "metadata": {},
   "source": [
    "After a mere 51 steps, you catch sight of yet another hatch:\n",
    "\n",
    "![Hatch](./img/trapdoor2.png)\n",
    "\n",
    "You take another ladder down into yet another dark environment. Well, it worked last time, so let's try vanilla gradient descent once again."
   ]
  },
  {
   "cell_type": "code",
   "execution_count": null,
   "metadata": {},
   "outputs": [],
   "source": [
    "from levels import Level2\n",
    "env = Level2()\n",
    "points = vanilla_grad_descent(0.95, env)\n",
    "visualize_journey(points, env.can_see_exit(points[-1]))"
   ]
  },
  {
   "cell_type": "markdown",
   "metadata": {},
   "source": [
    "After 100 steps, you still haven't found the exit, so you retrace your steps back to the entrance. Visualizing your previous journey, it seems like you're in a narrow ravine with steeply sloping sides, which is causing you to go back and forth sharply across the width of the ravine, but not make much forward progress along its length. You've read about this phenomenon in class, and hypothesize that one way to deal with it is to use gradient descent with *momentum*. "
   ]
  },
  {
   "cell_type": "markdown",
   "metadata": {},
   "source": [
    "----\n",
    "### Question 2\n",
    "----"
   ]
  },
  {
   "cell_type": "markdown",
   "metadata": {},
   "source": [
    "Complete the implementation of gradient descent with momentum (```momentum_grad_descent```) in ```algorithms.py```, according to the specifications in its comments.\n",
    "\n",
    "Again we've provided a unit test in test.py, so that you can check your algorithm is working properly. Run it from the command line as follows:\n",
    "\n",
    "    python -m unittest test.GradientDescentTests.test_momentum\n",
    "    \n",
    "Confident in your test-passing implementation, you steel yourself and head into the darkness."
   ]
  },
  {
   "cell_type": "code",
   "execution_count": null,
   "metadata": {},
   "outputs": [],
   "source": [
    "from algorithms import momentum_grad_descent\n",
    "from levels import Level2, visualize_journey\n",
    "env = Level2()\n",
    "points = momentum_grad_descent(0.95, env)\n",
    "if len(points[1:]) == 93:\n",
    "    visualize_journey(points, env.can_see_exit(points[-1]))\n",
    "else:\n",
    "    print(\"Looks like there's still a bug in your grad_descent code.\")"
   ]
  },
  {
   "cell_type": "markdown",
   "metadata": {},
   "source": [
    "After 93 steps, you find a third hatch:\n",
    "\n",
    "![Hatch](./img/trapdoor3.png)\n",
    "\n",
    "Again, you go down. You try a few steps of gradient descent with momentum..."
   ]
  },
  {
   "cell_type": "code",
   "execution_count": null,
   "metadata": {},
   "outputs": [],
   "source": [
    "from algorithms import momentum_grad_descent\n",
    "from levels import Level3\n",
    "env = Level3()\n",
    "points = momentum_grad_descent(0.95, env)\n",
    "visualize_journey(points, env.can_see_exit(points[-1]))"
   ]
  },
  {
   "cell_type": "markdown",
   "metadata": {},
   "source": [
    "...but quickly realize you're spinning out of control (notice the scale of the axes). It seems that your step size is too large. You go back to vanilla gradient descent with a smaller step size."
   ]
  },
  {
   "cell_type": "code",
   "execution_count": null,
   "metadata": {},
   "outputs": [],
   "source": [
    "from algorithms import momentum_grad_descent\n",
    "from levels import Level3\n",
    "env = Level3()\n",
    "points = vanilla_grad_descent(0.05, env)\n",
    "visualize_journey(points, env.can_see_exit(points[-1]))"
   ]
  },
  {
   "cell_type": "markdown",
   "metadata": {},
   "source": [
    "Unfortunately, you find another hatch. Hopefully this the last one.\n",
    "\n",
    "![Hatch](./img/trapdoor4.png)\n",
    "\n",
    "You try out vanilla gradient descent with the same conservative step size.\n"
   ]
  },
  {
   "cell_type": "code",
   "execution_count": null,
   "metadata": {},
   "outputs": [],
   "source": [
    "from algorithms import momentum_grad_descent\n",
    "from levels import Level4\n",
    "env = Level4()\n",
    "points = vanilla_grad_descent(0.05, env)\n",
    "visualize_journey(points, env.can_see_exit(points[-1]))"
   ]
  },
  {
   "cell_type": "markdown",
   "metadata": {},
   "source": [
    "After 100 steps, you declare defeat and go back to the entrance. You're a bit tired of guessing the correct step size, so you'd like to try a gradient descent method with an adaptive step size (i.e. one where the step size is a function of time). You can't help but notice that the slopes of this level aren't particularly smooth. You proceeded directly east for a long time before the gradient started leading you south. Therefore you don't want to use an adaptive method where the step size decreases in all dimensions at the same rate, because by the time you reach the south-leading slope, your step size would likely be too tiny to make any good progress.\n",
    "\n",
    "Luckily, you remember AdaGrad is a gradient descent method where the rate changes independently in each dimension."
   ]
  },
  {
   "cell_type": "markdown",
   "metadata": {},
   "source": [
    "----\n",
    "### Question 3\n",
    "----\n",
    "\n",
    "Complete the implementation of AdaGrad (```adagrad```) in ```algorithms.py```, according to the specifications in its comments.\n",
    "\n",
    "We've provided a unit test in test.py, so that you can check your algorithm is working properly. Run it from the command line as follows:\n",
    "\n",
    "    python -m unittest test.GradientDescentTests.test_adagrad\n",
    "    \n",
    "Confident in your implementation, you try navigating the fourth level again."
   ]
  },
  {
   "cell_type": "code",
   "execution_count": null,
   "metadata": {},
   "outputs": [],
   "source": [
    "from algorithms import adagrad\n",
    "from levels import Level4, visualize_journey\n",
    "env = Level4()\n",
    "points = adagrad(0.95, env)\n",
    "if len(points[1:]) == 101:\n",
    "    visualize_journey(points, env.can_see_exit(points[-1]))\n",
    "else:\n",
    "    print(\"Looks like there's still a bug in your adagrad code.\")"
   ]
  },
  {
   "cell_type": "markdown",
   "metadata": {},
   "source": [
    "Seems like you're close, but no cigar. You seem to remember learning that AdaGrad can sometimes converge too quickly, and that RmsProp might be a better choice for some topologies. Looks like it's back to implementation!"
   ]
  },
  {
   "cell_type": "markdown",
   "metadata": {},
   "source": [
    "----\n",
    "### Question 4\n",
    "----\n",
    "\n",
    "Complete the implementation of RmsProp (```rmsprop```) in ```algorithms.py```, according to the specifications in its comments.\n",
    "\n",
    "We've provided a unit test in test.py, so that you can check your algorithm is working properly. Run it from the command line as follows:\n",
    "\n",
    "    python -m unittest test.GradientDescentTests.test_rmsprop\n",
    "    \n",
    "Third time's the charm! You head out again, into the darkness."
   ]
  },
  {
   "cell_type": "code",
   "execution_count": null,
   "metadata": {},
   "outputs": [],
   "source": [
    "from algorithms import rmsprop\n",
    "from levels import Level4, visualize_journey\n",
    "env = Level4()\n",
    "points = rmsprop(0.4, 0.95, env)\n",
    "if len(points[1:]) == 41:\n",
    "    visualize_journey(points, env.can_see_exit(points[-1]))\n",
    "else:\n",
    "    print(\"Looks like there's still a bug in your rmsprop code.\")"
   ]
  },
  {
   "cell_type": "markdown",
   "metadata": {},
   "source": [
    "This time, there's no hatch, just a mysterious chest.\n",
    "\n",
    "![Chest](./img/chest.png)\n",
    "\n",
    "You open it. Inside rests the resplendent Chekhov's Sun. What will you do with the world's largest yellow diamond? After correctly implementing four different gradient descent algorithms, the answer becomes clear."
   ]
  },
  {
   "cell_type": "code",
   "execution_count": null,
   "metadata": {},
   "outputs": [],
   "source": [
    "from levels import LevelX\n",
    "from algorithms import vanilla_grad_descent, rmsprop\n",
    "from algorithms import momentum_grad_descent, adagrad\n",
    "\n",
    "def answer():\n",
    "    points = vanilla_grad_descent(0.95, LevelX())\n",
    "    points2 = momentum_grad_descent(0.95, LevelX())\n",
    "    points3 = adagrad(0.95, LevelX())\n",
    "    points4 = rmsprop(0.4, 0.95, LevelX())\n",
    "    ALPHABET = 'ABCDEFGHIJKLMNOPQRSTUVWXYZ'\n",
    "    letter1 = ALPHABET[int(points[3][0].item()) - 11]\n",
    "    letter2 = ALPHABET[int(points2[3][0].item()) - 8]\n",
    "    letter3 = ALPHABET[int(points3[3][0].item()) + 16]\n",
    "    letter4 = ALPHABET[int(points4[3][0].item()) + 3]\n",
    "    letter5 = ALPHABET[int(points2[5][0].item()) - 20]\n",
    "    letter6 = ALPHABET[int(points4[5][0].item()) + 11]\n",
    "    word = '{}{}{}{}{}{}'.format(letter1, letter2, letter3, letter4, letter5, letter6)\n",
    "    return word\n",
    "\n",
    "def submit(response):\n",
    "    import rpyc\n",
    "    c = rpyc.connect(\"137.165.10.56\", 18861)\n",
    "    return c.root.submit_response('q2', response)\n",
    "\n",
    "print('You submit the password {} to the server.'.format(answer()))\n",
    "submit(answer())"
   ]
  }
 ],
 "metadata": {
  "kernelspec": {
   "display_name": "Python 3",
   "language": "python",
   "name": "python3"
  },
  "language_info": {
   "codemirror_mode": {
    "name": "ipython",
    "version": 3
   },
   "file_extension": ".py",
   "mimetype": "text/x-python",
   "name": "python",
   "nbconvert_exporter": "python",
   "pygments_lexer": "ipython3",
   "version": "3.11.7"
  }
 },
 "nbformat": 4,
 "nbformat_minor": 2
}
